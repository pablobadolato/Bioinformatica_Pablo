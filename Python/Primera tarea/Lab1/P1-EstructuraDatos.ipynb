{
 "cells": [
  {
   "cell_type": "markdown",
   "id": "57e5a4ba",
   "metadata": {},
   "source": [
    "# PRACTICA 1\n",
    "\n",
    "### Resuelve las siguientes preguntas empleando lo aprendido con las estructuras de Datos"
   ]
  },
  {
   "cell_type": "markdown",
   "id": "092831f1",
   "metadata": {},
   "source": [
    "Pon el código debajo de cada pregunta. Añade tantas celdas de código como necesites."
   ]
  },
  {
   "cell_type": "markdown",
   "id": "94b6abb8",
   "metadata": {},
   "source": [
    "#### 1.- Escribe una ecuación que emplee multiplicación, división, un exponente, suma y resta y que sea igual a 100.25. (0,25 ptos)"
   ]
  },
  {
   "cell_type": "code",
   "execution_count": 5,
   "id": "4e5e660a",
   "metadata": {},
   "outputs": [],
   "source": [
    "ecuacion1 = (5**2)*2+(20-(2*5))+(80/2)+(1/4)"
   ]
  },
  {
   "cell_type": "code",
   "execution_count": 6,
   "id": "864acf1a-b515-407b-8582-b3b90cf56281",
   "metadata": {},
   "outputs": [
    {
     "data": {
      "text/plain": [
       "100.25"
      ]
     },
     "execution_count": 6,
     "metadata": {},
     "output_type": "execute_result"
    }
   ],
   "source": [
    "ecuacion1"
   ]
  },
  {
   "cell_type": "markdown",
   "id": "95ec00dc",
   "metadata": {},
   "source": [
    "#### 2.- ¿Qué harías para obtener la raíz cuadrada de 100? Busca dos formas. (0,5 ptos)"
   ]
  },
  {
   "cell_type": "code",
   "execution_count": 7,
   "id": "d1476ef0",
   "metadata": {},
   "outputs": [],
   "source": [
    "forma1 = 100**(1/2)"
   ]
  },
  {
   "cell_type": "code",
   "execution_count": 8,
   "id": "7247ce45-5d1d-4798-b711-bc47454a52c6",
   "metadata": {},
   "outputs": [
    {
     "data": {
      "text/plain": [
       "10.0"
      ]
     },
     "execution_count": 8,
     "metadata": {},
     "output_type": "execute_result"
    }
   ],
   "source": [
    "forma1"
   ]
  },
  {
   "cell_type": "code",
   "execution_count": 19,
   "id": "700f7733-acc1-40d8-a917-9aa1b47cc1d8",
   "metadata": {},
   "outputs": [
    {
     "data": {
      "text/plain": [
       "10.0"
      ]
     },
     "execution_count": 19,
     "metadata": {},
     "output_type": "execute_result"
    }
   ],
   "source": [
    "#forma2 \n",
    "import math\n",
    "forma2 = math.sqrt(100)\n",
    "forma2"
   ]
  },
  {
   "cell_type": "code",
   "execution_count": 10,
   "id": "9380e4ac-5748-4413-810e-d83ccd4aab16",
   "metadata": {},
   "outputs": [
    {
     "data": {
      "text/plain": [
       "10.0"
      ]
     },
     "execution_count": 10,
     "metadata": {},
     "output_type": "execute_result"
    }
   ],
   "source": [
    "forma2"
   ]
  },
  {
   "cell_type": "markdown",
   "id": "95232620",
   "metadata": {},
   "source": [
    "#### 3.- ¿Y el cuadrado de 100? (0,25 ptos)"
   ]
  },
  {
   "cell_type": "code",
   "execution_count": 27,
   "id": "14249667",
   "metadata": {},
   "outputs": [],
   "source": [
    "cuadrado = 100**2"
   ]
  },
  {
   "cell_type": "code",
   "execution_count": 28,
   "id": "d0961bcc-cc18-43ec-b27f-467c60244b34",
   "metadata": {},
   "outputs": [
    {
     "data": {
      "text/plain": [
       "10000"
      ]
     },
     "execution_count": 28,
     "metadata": {},
     "output_type": "execute_result"
    }
   ],
   "source": [
    "cuadrado"
   ]
  },
  {
   "cell_type": "markdown",
   "id": "7fc5bfae",
   "metadata": {},
   "source": [
    "#### 4.- Tenemos la string 'hello'. (0,5 ptos)\n",
    "#### Primero devuelve la letra 'e'\n",
    "#### Luego dale la vuelta a la string \n",
    "#### Después usa dos métodos para devolver la letra 'o'"
   ]
  },
  {
   "cell_type": "code",
   "execution_count": 14,
   "id": "a6d0eb90",
   "metadata": {},
   "outputs": [],
   "source": [
    "s = 'hello'"
   ]
  },
  {
   "cell_type": "code",
   "execution_count": 15,
   "id": "a3f33800",
   "metadata": {},
   "outputs": [
    {
     "data": {
      "text/plain": [
       "'e'"
      ]
     },
     "execution_count": 15,
     "metadata": {},
     "output_type": "execute_result"
    }
   ],
   "source": [
    "s[1]"
   ]
  },
  {
   "cell_type": "code",
   "execution_count": 16,
   "id": "fe037f90-6566-4fbf-99a1-8a5557647a53",
   "metadata": {},
   "outputs": [
    {
     "data": {
      "text/plain": [
       "'olleh'"
      ]
     },
     "execution_count": 16,
     "metadata": {},
     "output_type": "execute_result"
    }
   ],
   "source": [
    "s[::-1]"
   ]
  },
  {
   "cell_type": "code",
   "execution_count": 23,
   "id": "8c350a62-1025-441b-976a-5116d4b0ac8d",
   "metadata": {},
   "outputs": [],
   "source": [
    "o1 = s[4]"
   ]
  },
  {
   "cell_type": "code",
   "execution_count": 24,
   "id": "f4e20a13-788e-4e8a-8bd2-1f13ac1a875c",
   "metadata": {},
   "outputs": [
    {
     "data": {
      "text/plain": [
       "'o'"
      ]
     },
     "execution_count": 24,
     "metadata": {},
     "output_type": "execute_result"
    }
   ],
   "source": [
    "o1"
   ]
  },
  {
   "cell_type": "code",
   "execution_count": 29,
   "id": "71ec8775-36aa-412c-b0bc-3b5ed05fdf2e",
   "metadata": {},
   "outputs": [],
   "source": [
    "o2 = s[-1]"
   ]
  },
  {
   "cell_type": "code",
   "execution_count": 31,
   "id": "92fee1a1-b173-4152-8afa-ddb677997093",
   "metadata": {},
   "outputs": [
    {
     "data": {
      "text/plain": [
       "'o'"
      ]
     },
     "execution_count": 31,
     "metadata": {},
     "output_type": "execute_result"
    }
   ],
   "source": [
    "o2"
   ]
  },
  {
   "cell_type": "markdown",
   "id": "0febc918",
   "metadata": {},
   "source": [
    "#### 5.- Crear una lista que contenga esto [0,0,0] de dos formas distintas (0,5 ptos)"
   ]
  },
  {
   "cell_type": "code",
   "execution_count": 85,
   "id": "30981b24",
   "metadata": {},
   "outputs": [],
   "source": [
    "lista1 = [0,0,0]"
   ]
  },
  {
   "cell_type": "code",
   "execution_count": 86,
   "id": "89c40e99-c707-4d3b-8e4b-1643a0285563",
   "metadata": {},
   "outputs": [
    {
     "data": {
      "text/plain": [
       "[0, 0, 0]"
      ]
     },
     "execution_count": 86,
     "metadata": {},
     "output_type": "execute_result"
    }
   ],
   "source": [
    "lista1"
   ]
  },
  {
   "cell_type": "code",
   "execution_count": 87,
   "id": "5046f901-205e-4229-9983-e2c55332fe4a",
   "metadata": {},
   "outputs": [],
   "source": [
    "lista2 = [0]*3"
   ]
  },
  {
   "cell_type": "code",
   "execution_count": 88,
   "id": "14daf34b-a2f9-4bf9-832b-6ae1c371f032",
   "metadata": {},
   "outputs": [
    {
     "data": {
      "text/plain": [
       "[0, 0, 0]"
      ]
     },
     "execution_count": 88,
     "metadata": {},
     "output_type": "execute_result"
    }
   ],
   "source": [
    "lista2"
   ]
  },
  {
   "cell_type": "markdown",
   "id": "80e1a951",
   "metadata": {},
   "source": [
    "#### 6.- Reasigna 'hello' en la lista a continuación para que diga 'goodbye' (1 pto)"
   ]
  },
  {
   "cell_type": "code",
   "execution_count": 41,
   "id": "20d1ebdf",
   "metadata": {},
   "outputs": [],
   "source": [
    "lista = [1,2,[3,4,'hello']]"
   ]
  },
  {
   "cell_type": "code",
   "execution_count": 42,
   "id": "e9eb03ae",
   "metadata": {},
   "outputs": [],
   "source": [
    "lista[2].remove(\"hello\")"
   ]
  },
  {
   "cell_type": "code",
   "execution_count": 43,
   "id": "ff621403-fb2d-46c3-9bad-2475ca6b95d0",
   "metadata": {},
   "outputs": [
    {
     "data": {
      "text/plain": [
       "[1, 2, [3, 4]]"
      ]
     },
     "execution_count": 43,
     "metadata": {},
     "output_type": "execute_result"
    }
   ],
   "source": [
    "lista"
   ]
  },
  {
   "cell_type": "code",
   "execution_count": 44,
   "id": "c04d61d9-353d-44ce-a29d-471a5128f911",
   "metadata": {},
   "outputs": [],
   "source": [
    "lista[2].append(\"goodbye\")"
   ]
  },
  {
   "cell_type": "code",
   "execution_count": 45,
   "id": "0ca742dd-de88-4e6e-95be-20f43ec8d43b",
   "metadata": {},
   "outputs": [
    {
     "data": {
      "text/plain": [
       "[1, 2, [3, 4, 'goodbye']]"
      ]
     },
     "execution_count": 45,
     "metadata": {},
     "output_type": "execute_result"
    }
   ],
   "source": [
    "lista"
   ]
  },
  {
   "cell_type": "markdown",
   "id": "77e38490",
   "metadata": {},
   "source": [
    "#### 7.- Ordena la siguiente lista (0,5 ptos)"
   ]
  },
  {
   "cell_type": "code",
   "execution_count": 82,
   "id": "bc957d55",
   "metadata": {},
   "outputs": [],
   "source": [
    "listaSinOrdenar = [5,3,4,6,1]"
   ]
  },
  {
   "cell_type": "code",
   "execution_count": 83,
   "id": "e2c2fb65",
   "metadata": {},
   "outputs": [],
   "source": [
    "listaOrdenada = sorted(listaSinOrdenar)"
   ]
  },
  {
   "cell_type": "code",
   "execution_count": 84,
   "id": "2e55e409-0a86-4f8d-adc5-f5c1801318b1",
   "metadata": {},
   "outputs": [
    {
     "data": {
      "text/plain": [
       "[1, 3, 4, 5, 6]"
      ]
     },
     "execution_count": 84,
     "metadata": {},
     "output_type": "execute_result"
    }
   ],
   "source": [
    "listaOrdenada"
   ]
  },
  {
   "cell_type": "markdown",
   "id": "0cc790ac",
   "metadata": {},
   "source": [
    "#### 8.- En los siguientes diccionarios, extrae el valor de 'hello (2 ptos)"
   ]
  },
  {
   "cell_type": "code",
   "execution_count": 81,
   "id": "c390a0bb",
   "metadata": {},
   "outputs": [],
   "source": [
    "f = {'k1':{'k2':'hello'}}"
   ]
  },
  {
   "cell_type": "code",
   "execution_count": 91,
   "id": "4cdcd16e",
   "metadata": {},
   "outputs": [
    {
     "data": {
      "text/plain": [
       "'hello'"
      ]
     },
     "execution_count": 91,
     "metadata": {},
     "output_type": "execute_result"
    }
   ],
   "source": [
    "f[\"k1\"][\"k2\"]"
   ]
  },
  {
   "cell_type": "code",
   "execution_count": 92,
   "id": "c0244e1f",
   "metadata": {},
   "outputs": [],
   "source": [
    "d = {'key1':'hello'}"
   ]
  },
  {
   "cell_type": "code",
   "execution_count": 93,
   "id": "196ef04c",
   "metadata": {},
   "outputs": [
    {
     "data": {
      "text/plain": [
       "'hello'"
      ]
     },
     "execution_count": 93,
     "metadata": {},
     "output_type": "execute_result"
    }
   ],
   "source": [
    "d['key1']"
   ]
  },
  {
   "cell_type": "code",
   "execution_count": 94,
   "id": "344d780b",
   "metadata": {},
   "outputs": [],
   "source": [
    "g = {'k1':[{'o1':['valor escondido',['hello']]}]}"
   ]
  },
  {
   "cell_type": "code",
   "execution_count": 98,
   "id": "e965a858",
   "metadata": {},
   "outputs": [
    {
     "data": {
      "text/plain": [
       "'hello'"
      ]
     },
     "execution_count": 98,
     "metadata": {},
     "output_type": "execute_result"
    }
   ],
   "source": [
    "g[\"k1\"][0][\"o1\"][1][0]"
   ]
  },
  {
   "cell_type": "code",
   "execution_count": 99,
   "id": "663f9ffd",
   "metadata": {},
   "outputs": [],
   "source": [
    "h = {'k1':[1,2,{'k2':['complicado',{'dificil':[1,2,['hello']]}]}]}"
   ]
  },
  {
   "cell_type": "code",
   "execution_count": 101,
   "id": "9b9d7d97",
   "metadata": {},
   "outputs": [
    {
     "data": {
      "text/plain": [
       "'hello'"
      ]
     },
     "execution_count": 101,
     "metadata": {},
     "output_type": "execute_result"
    }
   ],
   "source": [
    "h[\"k1\"][2][\"k2\"][1][\"dificil\"][2][0]"
   ]
  },
  {
   "cell_type": "markdown",
   "id": "7692eea8",
   "metadata": {},
   "source": [
    "#### 9.- Crea una tupla (1 pto)"
   ]
  },
  {
   "cell_type": "code",
   "execution_count": 102,
   "id": "23886da1",
   "metadata": {},
   "outputs": [],
   "source": [
    "t = (0,0,0)"
   ]
  },
  {
   "cell_type": "code",
   "execution_count": 103,
   "id": "d7af2884-fafe-4ea2-9056-d0e31e666005",
   "metadata": {},
   "outputs": [
    {
     "data": {
      "text/plain": [
       "(0, 0, 0)"
      ]
     },
     "execution_count": 103,
     "metadata": {},
     "output_type": "execute_result"
    }
   ],
   "source": [
    "t"
   ]
  },
  {
   "cell_type": "markdown",
   "id": "6231d723",
   "metadata": {},
   "source": [
    "#### 10.- Emplea los sets para encontrar los valores únicos de esta lista (0,5 ptos)"
   ]
  },
  {
   "cell_type": "code",
   "execution_count": 108,
   "id": "a7cbba3a",
   "metadata": {},
   "outputs": [],
   "source": [
    "listaDuplicada = [1,2,2,33,4,4,11,22,3,3,2]"
   ]
  },
  {
   "cell_type": "code",
   "execution_count": 109,
   "id": "71da8284",
   "metadata": {},
   "outputs": [
    {
     "data": {
      "text/plain": [
       "{1, 2, 3, 4, 11, 22, 33}"
      ]
     },
     "execution_count": 109,
     "metadata": {},
     "output_type": "execute_result"
    }
   ],
   "source": [
    "set(listaDuplicada)"
   ]
  },
  {
   "cell_type": "markdown",
   "id": "9b217cfc",
   "metadata": {},
   "source": [
    "#### 11.- Haz las siguientes comparaciones: (0,5 ptos)\n",
    "#### Dos mayor que tres\n",
    "#### Tres igual que 2\n",
    "#### La raíz cuadrada de cuatro no es igual a 2\n",
    "#### Se cumple si 6 es mayor que 5 y 7 menor de 8\n",
    "#### Se cumple si la longitud de _nombre_ es igual que el número de elementos de _colores_ o si la longitud de _nombre_ es menor de 7."
   ]
  },
  {
   "cell_type": "code",
   "execution_count": 110,
   "id": "59b70e21",
   "metadata": {},
   "outputs": [
    {
     "data": {
      "text/plain": [
       "False"
      ]
     },
     "execution_count": 110,
     "metadata": {},
     "output_type": "execute_result"
    }
   ],
   "source": [
    "# 2 mayor que 3\n",
    "2>3"
   ]
  },
  {
   "cell_type": "code",
   "execution_count": 112,
   "id": "89985eaf",
   "metadata": {},
   "outputs": [
    {
     "data": {
      "text/plain": [
       "False"
      ]
     },
     "execution_count": 112,
     "metadata": {},
     "output_type": "execute_result"
    }
   ],
   "source": [
    "# 3 igual que 2\n",
    "3==2"
   ]
  },
  {
   "cell_type": "code",
   "execution_count": 114,
   "id": "16c4febf",
   "metadata": {},
   "outputs": [
    {
     "data": {
      "text/plain": [
       "False"
      ]
     },
     "execution_count": 114,
     "metadata": {},
     "output_type": "execute_result"
    }
   ],
   "source": [
    "# raíz cuadrada de 4 no es igual a 2\n",
    "4**0.5!=2"
   ]
  },
  {
   "cell_type": "code",
   "execution_count": 115,
   "id": "d994e99f-ecd4-4a89-a686-67b8357e8046",
   "metadata": {},
   "outputs": [
    {
     "data": {
      "text/plain": [
       "True"
      ]
     },
     "execution_count": 115,
     "metadata": {},
     "output_type": "execute_result"
    }
   ],
   "source": [
    "# 6 es mayor que 5 y 7 menor de 8\n",
    "6>5 and 7<8"
   ]
  },
  {
   "cell_type": "code",
   "execution_count": 116,
   "id": "e5ed7361-8611-4c1f-bebe-4f4247800baa",
   "metadata": {},
   "outputs": [],
   "source": [
    "nombre = \"Pepito\"\n",
    "colores = [\"azul\",\"rojo\",\"verde\",\"lila\",\"amarillo limón\"]"
   ]
  },
  {
   "cell_type": "code",
   "execution_count": 118,
   "id": "8740ce6e-68da-4f2d-9238-3e192c9ef633",
   "metadata": {},
   "outputs": [
    {
     "data": {
      "text/plain": [
       "True"
      ]
     },
     "execution_count": 118,
     "metadata": {},
     "output_type": "execute_result"
    }
   ],
   "source": [
    "nom = len(nombre)\n",
    "col = len(colores)\n",
    "nom==col or nom<7"
   ]
  },
  {
   "cell_type": "markdown",
   "id": "bc1471d1-0d87-4c9d-8a0f-e2d735f2c764",
   "metadata": {},
   "source": [
    "#### 12.- Crea un archivo mediante código que se llame _tabla-nombres.txt_ y que esté formado por 4 columnas y 4 filas con la siguiente formación (1,5 ptos):\n",
    "#### Primera columna: Nombre\n",
    "#### Segunda columna: Apellidos (2 apellidos)\n",
    "#### Tercera columna: Edad\n",
    "#### Cuarta columna: Mascotas (nombre de la mascota si tienen)\n",
    "\n",
    "#### ¿Qué pasa si abres el archivo desde Jupyter y has metido acentos? ¿Puedes solucionarlo?"
   ]
  },
  {
   "cell_type": "code",
   "execution_count": 140,
   "id": "1ce5ecc5-05c2-41ee-8080-6270258a1d88",
   "metadata": {},
   "outputs": [],
   "source": [
    "tabla = [\n",
    "    ['Nombre', 'Apellidos', 'Edad', 'Mascota'],\n",
    " ['Ana', 'Pomares Echanove', '22', 'Perro'],\n",
    " ['Pablo', 'Badolato Lopez', '21', ''],\n",
    " ['Pedro', 'Garcia Lopez', '32', 'Gallo'],\n",
    " ['Carol', 'Vidal Puerta', '16', 'Tortuga']\n",
    "]"
   ]
  },
  {
   "cell_type": "code",
   "execution_count": 141,
   "id": "5bbf4d34-e5c7-4fd7-ba35-5da37ebc6b35",
   "metadata": {},
   "outputs": [
    {
     "data": {
      "text/plain": [
       "[['Nombre', 'Apellidos', 'Edad', 'Mascota'],\n",
       " ['Ana', 'Pomares Echanove', '22', 'Perro'],\n",
       " ['Pablo', 'Badolato Lopez', '21', ''],\n",
       " ['Pedro', 'Garcia Lopez', '32', 'Gallo'],\n",
       " ['Carol', 'Vidal Puerta', '16', 'Tortuga']]"
      ]
     },
     "execution_count": 141,
     "metadata": {},
     "output_type": "execute_result"
    }
   ],
   "source": [
    "tabla"
   ]
  },
  {
   "cell_type": "code",
   "execution_count": 142,
   "id": "62581315-1231-41ac-a425-c455ffa35648",
   "metadata": {},
   "outputs": [],
   "source": [
    "with open(\"tabla-nombres.txt\", \"w\", encoding=\"utf-8\") as f:\n",
    "    for fila in tabla:\n",
    "        f.write(\"{:<10} {:<20} {:<5} {:<10}\\n\".format(*fila))"
   ]
  },
  {
   "cell_type": "markdown",
   "id": "acfdde50-7f35-499e-b8dc-f8246dfaefb3",
   "metadata": {},
   "source": [
    "#### 13.- Crea un diccionario que contenga las siguientes parejas. Obtén el listado de keys() y guárdalo en una lista. Añade un par de elementos más y después convierte esa lista en un set (1 pto).\n",
    "\n",
    "#### Rattus = novergicus, rattus\n",
    "#### Glaucidium = brasilianum, hoskinsii, californicum, minutissimum\n",
    "#### Echinocactus = grusonii\n",
    "#### Opuntia = 1\n"
   ]
  },
  {
   "cell_type": "code",
   "execution_count": 146,
   "id": "c92024a1-08cf-4ca9-9d8e-40402909e024",
   "metadata": {},
   "outputs": [],
   "source": [
    "diccionario = {\n",
    "    \"Rattus\": [\"novergicus\", \"rattus\"],\n",
    "    \"Glaucidium\": [\"brasilianum\", \"hoskinsii\", \"californicum\", \"minutissimum\"],\n",
    "    \"Echinocactus\": [\"grusonii\"],\n",
    "    \"Opuntia\": 1\n",
    "}"
   ]
  },
  {
   "cell_type": "code",
   "execution_count": 147,
   "id": "5fb9d7d4-6f0e-45df-9350-58438fc5490a",
   "metadata": {},
   "outputs": [
    {
     "name": "stdout",
     "output_type": "stream",
     "text": [
      "Lista de claves inicial: ['Rattus', 'Glaucidium', 'Echinocactus', 'Opuntia']\n"
     ]
    }
   ],
   "source": [
    "lista_claves = list(diccionario.keys())\n",
    "print(\"Lista de claves inicial:\", lista_claves)"
   ]
  },
  {
   "cell_type": "code",
   "execution_count": 148,
   "id": "ba070fc0-fc0b-4520-80b1-2c0632bb2e60",
   "metadata": {},
   "outputs": [],
   "source": [
    "diccionario[\"Canis\"] = [\"lupus\", \"familiaris\"]\n",
    "diccionario[\"Felis\"] = \"catus\""
   ]
  },
  {
   "cell_type": "code",
   "execution_count": 149,
   "id": "20800a9f-e513-4754-bb9a-711d68ad6257",
   "metadata": {},
   "outputs": [
    {
     "name": "stdout",
     "output_type": "stream",
     "text": [
      "Lista de claves actualizada: ['Rattus', 'Glaucidium', 'Echinocactus', 'Opuntia', 'Canis', 'Felis']\n"
     ]
    }
   ],
   "source": [
    "lista_claves = list(diccionario.keys())\n",
    "print(\"Lista de claves actualizada:\", lista_claves)"
   ]
  },
  {
   "cell_type": "code",
   "execution_count": 150,
   "id": "9516796b-e3c7-41e6-a6e2-bab667d753fc",
   "metadata": {},
   "outputs": [
    {
     "name": "stdout",
     "output_type": "stream",
     "text": [
      "Conjunto de claves: {'Opuntia', 'Rattus', 'Echinocactus', 'Canis', 'Glaucidium', 'Felis'}\n"
     ]
    }
   ],
   "source": [
    "conjunto_claves = set(lista_claves)\n",
    "print(\"Conjunto de claves:\", conjunto_claves)"
   ]
  },
  {
   "cell_type": "code",
   "execution_count": 151,
   "id": "1dd9b074-de26-4a23-a18f-7ec6729fa706",
   "metadata": {},
   "outputs": [
    {
     "name": "stdout",
     "output_type": "stream",
     "text": [
      "{'Rattus': ['novergicus', 'rattus'], 'Glaucidium': ['brasilianum', 'hoskinsii', 'californicum', 'minutissimum'], 'Echinocactus': ['grusonii'], 'Opuntia': 1, 'Canis': ['lupus', 'familiaris'], 'Felis': 'catus'}\n"
     ]
    }
   ],
   "source": [
    "print (diccionario)"
   ]
  }
 ],
 "metadata": {
  "kernelspec": {
   "display_name": "Python [conda env:base] *",
   "language": "python",
   "name": "conda-base-py"
  },
  "language_info": {
   "codemirror_mode": {
    "name": "ipython",
    "version": 3
   },
   "file_extension": ".py",
   "mimetype": "text/x-python",
   "name": "python",
   "nbconvert_exporter": "python",
   "pygments_lexer": "ipython3",
   "version": "3.13.5"
  }
 },
 "nbformat": 4,
 "nbformat_minor": 5
}
