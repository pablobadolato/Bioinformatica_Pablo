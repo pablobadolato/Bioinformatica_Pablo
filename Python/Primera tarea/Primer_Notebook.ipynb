{
 "cells": [
  {
   "cell_type": "markdown",
   "id": "d4b927b5-c5a1-4f4d-94db-39a57cca0405",
   "metadata": {},
   "source": [
    "# PRIMER NOTEBOOK"
   ]
  },
  {
   "cell_type": "markdown",
   "id": "d0ed68db-2acb-411e-8682-e145a4a5fdf6",
   "metadata": {},
   "source": [
    "#### Este es mi primer notebook y voy a hacer lo siguiente"
   ]
  },
  {
   "cell_type": "markdown",
   "id": "359e09a1-3695-4388-ab2e-fb8486f8a1f4",
   "metadata": {},
   "source": [
    "Una lista **enumerada**:\n",
    "1. Primer elemento\n",
    "2. Segundo elemento\n",
    "3. Tercer elemento"
   ]
  },
  {
   "cell_type": "markdown",
   "id": "5207cf1d-fff9-435a-888b-f25fbc21f75d",
   "metadata": {},
   "source": [
    "Mi primer lista **por puntos**:\n",
    "- Primero\n",
    "- Segundo\n",
    "- Tercero"
   ]
  },
  {
   "cell_type": "markdown",
   "id": "1f718d77-1521-443e-87a2-fc99bdb08ce0",
   "metadata": {},
   "source": [
    "Mi primer código:"
   ]
  },
  {
   "cell_type": "code",
   "execution_count": 5,
   "id": "ff707d53-0f58-4de6-a3b4-327faffa6c68",
   "metadata": {},
   "outputs": [],
   "source": [
    "mi_primera_frase = \"Hello world\""
   ]
  },
  {
   "cell_type": "code",
   "execution_count": 6,
   "id": "ef6e358a-8dfc-4876-b9c5-648ed9c735d6",
   "metadata": {},
   "outputs": [
    {
     "name": "stdout",
     "output_type": "stream",
     "text": [
      "Hello world\n"
     ]
    }
   ],
   "source": [
    "print(mi_primera_frase)"
   ]
  },
  {
   "cell_type": "code",
   "execution_count": 7,
   "id": "f0b30a5a-8e29-4fc6-a2ed-5501a712e03a",
   "metadata": {},
   "outputs": [],
   "source": [
    "numeros = (10, 20, 30, 40, 50)"
   ]
  },
  {
   "cell_type": "code",
   "execution_count": 8,
   "id": "3282a50a-4f09-4532-adca-eee34a3f3243",
   "metadata": {},
   "outputs": [],
   "source": [
    "media = sum(numeros)/len(numeros)"
   ]
  },
  {
   "cell_type": "code",
   "execution_count": 11,
   "id": "ed1425a4-3934-4c61-afb6-d143383e5d38",
   "metadata": {},
   "outputs": [
    {
     "data": {
      "text/plain": [
       "30.0"
      ]
     },
     "execution_count": 11,
     "metadata": {},
     "output_type": "execute_result"
    }
   ],
   "source": [
    "media"
   ]
  },
  {
   "cell_type": "markdown",
   "id": "b9d38db9-5557-4b74-92af-fd903a2f758c",
   "metadata": {},
   "source": [
    "### Finalizamos con una foto bonita"
   ]
  },
  {
   "cell_type": "markdown",
   "id": "ba73c239-10bd-4ec7-8a4b-f3b04075a40c",
   "metadata": {},
   "source": [
    "![Mifoto](Bacteria.jpg)"
   ]
  }
 ],
 "metadata": {
  "kernelspec": {
   "display_name": "Python [conda env:base] *",
   "language": "python",
   "name": "conda-base-py"
  },
  "language_info": {
   "codemirror_mode": {
    "name": "ipython",
    "version": 3
   },
   "file_extension": ".py",
   "mimetype": "text/x-python",
   "name": "python",
   "nbconvert_exporter": "python",
   "pygments_lexer": "ipython3",
   "version": "3.13.5"
  }
 },
 "nbformat": 4,
 "nbformat_minor": 5
}
