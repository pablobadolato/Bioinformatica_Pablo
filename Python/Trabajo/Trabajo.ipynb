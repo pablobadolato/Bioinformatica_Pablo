{
 "cells": [
  {
   "cell_type": "markdown",
   "id": "eaebb484",
   "metadata": {},
   "source": [
    "# TRABAJO DE PYTHON\n",
    "\n",
    "### Este trabajo cuenta el 30% de la nota. \n",
    "\n",
    "### Resuelve los siguientes ejercicios en Python\n",
    "\n",
    "#### Utiliza tantas celdas de código como necesites"
   ]
  },
  {
   "cell_type": "markdown",
   "id": "98d4d480",
   "metadata": {},
   "source": [
    "#### 1.- Busca la secuencia del gen CNTNAP2 (cromosma 7) del genoma humano. Descarga la secuencia en formato FASTA e introdúcela en este Notebook . (1 pto)"
   ]
  },
  {
   "cell_type": "code",
   "execution_count": 16,
   "id": "f6b21b23",
   "metadata": {},
   "outputs": [],
   "source": [
    "archivo = open(\"sequence.fasta\")"
   ]
  },
  {
   "cell_type": "code",
   "execution_count": 2,
   "id": "2876f9c7-4732-41ff-98e3-ed9c9e886e02",
   "metadata": {},
   "outputs": [
    {
     "data": {
      "text/plain": [
       "<_io.TextIOWrapper name='sequence.fasta' mode='r' encoding='cp1252'>"
      ]
     },
     "execution_count": 2,
     "metadata": {},
     "output_type": "execute_result"
    }
   ],
   "source": [
    "archivo"
   ]
  },
  {
   "cell_type": "markdown",
   "id": "400fa3f1",
   "metadata": {},
   "source": [
    "#### 2.- Muestre el encabezado y la secuencia y guarde cada uno en variables separadas. Elimine el elemento \"\\n\" del encabezado con replace() si es que lo tiene. ¿Cual es la longitud de la secuencia?. (1 pto)"
   ]
  },
  {
   "cell_type": "code",
   "execution_count": 62,
   "id": "154b42b2",
   "metadata": {},
   "outputs": [
    {
     "name": "stdout",
     "output_type": "stream",
     "text": [
      ">NM_014141.6 Homo sapiens contactin associated protein 2 (CNTNAP2), mRNA\n"
     ]
    },
    {
     "data": {
      "text/plain": [
       "9454"
      ]
     },
     "execution_count": 62,
     "metadata": {},
     "output_type": "execute_result"
    }
   ],
   "source": [
    "archivo = open(\"sequence.fasta\")\n",
    "lista_contenido = archivo.readlines()\n",
    "encabezado = lista_contenido[0].replace(\"\\n\", \"\")\n",
    "print(encabezado)\n",
    "secuencia_conN = \"\".join(lista_contenido[1:])\n",
    "secuencia_sinN = secuencia_conN.replace(\"\\n\", \"\")\n",
    "long_sec = len(secuencia_sinN)\n",
    "long_sec"
   ]
  },
  {
   "cell_type": "markdown",
   "id": "36b8c00d",
   "metadata": {},
   "source": [
    "#### 3.- Para el encabezado, extrae empleando expresiones regulares el identificador. (1pto)"
   ]
  },
  {
   "cell_type": "code",
   "execution_count": 51,
   "id": "d845bb81",
   "metadata": {},
   "outputs": [
    {
     "name": "stdout",
     "output_type": "stream",
     "text": [
      "NM_014141.6\n"
     ]
    }
   ],
   "source": [
    "import re\n",
    "identificador = re.search(r\"[A-Z]{2}\\_[0-9]{6}\\.[0-9]\", encabezado)\n",
    "id_pattern = identificador.group()\n",
    "print(id_pattern)"
   ]
  },
  {
   "cell_type": "markdown",
   "id": "f38fdda0",
   "metadata": {},
   "source": [
    "#### 4.- ¿Cuál es el porcentaje de GC de la secuencia? (1 pto)"
   ]
  },
  {
   "cell_type": "code",
   "execution_count": 66,
   "id": "2914b1f2",
   "metadata": {},
   "outputs": [
    {
     "name": "stdout",
     "output_type": "stream",
     "text": [
      "44.02369367463507%\n"
     ]
    }
   ],
   "source": [
    "cant_GC = re.findall(r\"[GC]\", secuencia_sinN)\n",
    "cant_GC\n",
    "num_GC = len(cant_GC)\n",
    "porcent_GC = (num_GC/long_sec)*100\n",
    "print(f\"{porcent_GC}%\")"
   ]
  },
  {
   "cell_type": "markdown",
   "id": "a28888dd",
   "metadata": {},
   "source": [
    "#### 5.- Devuelve la secuencia de ARN que surgiría a partir de la siguiente secuencia. Recuerda que la secuencia de ARN resultante tiene que ser complementaria a la de ADN. (1 pto)"
   ]
  },
  {
   "cell_type": "code",
   "execution_count": 78,
   "id": "b27feabb",
   "metadata": {},
   "outputs": [],
   "source": [
    "dna = secuencia_sinN.upper()\n",
    "rna = \"\"\n",
    "for nucleotido in dna:\n",
    "    if nucleotido == \"A\":\n",
    "        rna = rna + \"U\"\n",
    "    elif nucleotido == \"T\":\n",
    "        rna = rna + \"A\"\n",
    "    elif nucleotido == \"C\":\n",
    "        rna = rna + \"G\"\n",
    "    elif nucleotido == \"G\":\n",
    "        rna = rna + \"C\"\n",
    "#rna"
   ]
  },
  {
   "cell_type": "markdown",
   "id": "9f94d5dd",
   "metadata": {},
   "source": [
    "#### 6.- Realiza una función que realice una digestión con las siguientes enzimas de restricción en nuestra secuencia. La función tiene que devolver la siguiente información: (2 pto)\n",
    "1. Enzimas que tienen sitios de corte en la secuencia y posición (o posiciones de corte)\n",
    "2. Enzimas que no tienen sitios de corte (si las hay)\n",
    "3. Resultado de la digestión: los fragmentos resultantes de nuestra secuencia\n",
    "4. Indicar número y tamaño de cada fragmento"
   ]
  },
  {
   "cell_type": "code",
   "execution_count": null,
   "id": "1cab833c",
   "metadata": {},
   "outputs": [],
   "source": [
    "enzR = {\n",
    "    'HindIII' : 'A*AGCTT',\n",
    "    'BamHI' : 'G*GATCC',\n",
    "    'AluI' : 'AG*CT',\n",
    "    'Sau3AI' : '*GATC',\n",
    "    'EcoRI' : 'G*AATTC'\n",
    "}"
   ]
  },
  {
   "cell_type": "markdown",
   "id": "cae3c937",
   "metadata": {},
   "source": [
    "#### 7.- Realiza una función que mediante la introducción de una secuencia de ADN devuelva lo siguiente: (3pto)\n",
    "1. Todos los ORFs posibles que puedan surgir de la secuencia.\n",
    "2. Selecciona los 6 ORFs más largos e indica si corresponden a la strand positiva o negativa.\n",
    "3. Devuelve como mejor predicción, el más largo de todos.\n",
    "4. Calcula el porcentaje de aminoácidos aromáticos de esa proteína elegida y su longitud relativa a la secuencia original de ADN."
   ]
  },
  {
   "cell_type": "code",
   "execution_count": null,
   "id": "1c43d765",
   "metadata": {},
   "outputs": [],
   "source": []
  }
 ],
 "metadata": {
  "kernelspec": {
   "display_name": "Python [conda env:base] *",
   "language": "python",
   "name": "conda-base-py"
  },
  "language_info": {
   "codemirror_mode": {
    "name": "ipython",
    "version": 3
   },
   "file_extension": ".py",
   "mimetype": "text/x-python",
   "name": "python",
   "nbconvert_exporter": "python",
   "pygments_lexer": "ipython3",
   "version": "3.13.5"
  }
 },
 "nbformat": 4,
 "nbformat_minor": 5
}
